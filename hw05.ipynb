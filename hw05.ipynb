{
 "cells": [
  {
   "cell_type": "markdown",
   "id": "10b775f2",
   "metadata": {},
   "source": [
    "A. When make a hypothesis test, the comparison object needs enough data to make a meaningful comparison. For example, compare \"Hillary vs. U.S. presidential election campaigns such as Trump cannot be used as the basis for hypothesis testing, because neither of them became president at the time of the campaign, and they could not get relevant data on their presidential performance.When there is not enough data, the future performance can also be speculated through the existing information. For example, assuming that Biden's presidential performance is to be predicted in some cases, the future situation can be speculated on the existing Biden's performance. The \"null hypothesis\" mentioned in the video should be more accurately expressed as \"we cannot reject the original hypothesis\", because the original hypothesis needs evidence to refute, not to prove that it is correct.\n",
    "In addition, when it comes to \"comparing the original hypothesis with the alternative hypothesis\", it is more mathematically accurate to use the version of \"less than or equal to\", not just \"less than\"."
   ]
  },
  {
   "cell_type": "markdown",
   "id": "2ac09422",
   "metadata": {},
   "source": [
    "1.An idea is testable if it can be measured or observed in a way that generates data, allowing for evidence-based conclusions. It needs to be clear, specific, and tied to something that can be empirically assessed.A good null hypothesis is clear, testable, and represents a statement of \"no effect\" or \"no difference.\" And also it should be falsifiable.The null hypothesis suggests no effect or no difference, while the alternative hypothesis suggests that there is an effect or difference. The goal of hypothesis testing is to use data to reject or fail to reject the null hypothesis in favor of the alternative."
   ]
  },
  {
   "cell_type": "markdown",
   "id": "5cf5c137",
   "metadata": {},
   "source": [
    "2.1)This is the value of each sample. If we have a sample, such as the height of a group of people, \"xi\" represents everyone's height data.\n",
    "  2)This is the mean of the sample.It is the average of all sample data.\n",
    "  3)This is the overall mean, that is, the real average of the whole group. This is usually the unknown value that we want to speculate through research or hypothesis testing.\n",
    "  4)This is the total mean assumed in the original hypothesis. It is what we think of as the total mean, and we usually decide whether to reject this value through a hypothetical test.\n",
    "  Sample statistics We get it from the sample and use it to estimate the overall parameters.By comparing the average of the sample and the assumed total mean to judge whether there is enough evidence to reject the original hypothesis."
   ]
  },
  {
   "cell_type": "markdown",
   "id": "a3f764f2",
   "metadata": {},
   "source": [
    "3. We take into account the sampling distribution. The p value represents the probability of getting the current statistic or more extreme than it in this \"original hypothesis is true\" world. If the p value is very small, it means that it is very unusual to observe the current data when the original hypothesis is true, so we may reject the original hypothesis."
   ]
  },
  {
   "cell_type": "markdown",
   "id": "7f26a070",
   "metadata": {},
   "source": [
    "4.Take a example in the video, if the dog is innocent, by default, the presence of a garbage cap on the dog's head is the doing of someone else, but it is highly unlikely that a neighbor would climb into the house and put a garbage cap on the dog's head. But the reality is that the dog did have a garbage cover on his head, so the neighbor didn't do it, the dog did it himself"
   ]
  },
  {
   "cell_type": "code",
   "execution_count": 2,
   "id": "9bdc90be",
   "metadata": {},
   "outputs": [
    {
     "name": "stdout",
     "output_type": "stream",
     "text": [
      "Observed proportion: 0.6452\n",
      "Simulated p-value: 0.0007\n"
     ]
    }
   ],
   "source": [
    "#5.\n",
    "import numpy as np\n",
    "\n",
    "n_simulations = 10000\n",
    "n_couples = 124\n",
    "observed_right_tilt = 80  \n",
    "observed_proportion = observed_right_tilt / n_couples\n",
    "\n",
    "\n",
    "simulated_right_tilts = np.random.binomial(n=n_couples, p=0.5, size=n_simulations)\n",
    "simulated_proportions = simulated_right_tilts / n_couples\n",
    "\n",
    "\n",
    "p_value = np.mean(simulated_proportions >= observed_proportion)\n",
    "\n",
    "\n",
    "print(f\"Observed proportion: {observed_proportion:.4f}\")\n",
    "print(f\"Simulated p-value: {p_value:.4f}\")\n"
   ]
  },
  {
   "cell_type": "markdown",
   "id": "ed2df209",
   "metadata": {},
   "source": [
    "As a result, there is a  strong evidence against the null hypothesis.It is believed that people do have a tendency to turn their heads to the right."
   ]
  },
  {
   "cell_type": "markdown",
   "id": "4fd44e12",
   "metadata": {},
   "source": [
    "6. The value of p will not be represented by a fixed value. It will be represented by a range.No specific p-value can definitively prove the null hypothesis is true or false. It only tells us how strong the evidence is to either reject or fail to reject the null hypothesis.The smaller the value of p, the lower the likelihood of error"
   ]
  },
  {
   "cell_type": "code",
   "execution_count": 4,
   "id": "40a52516",
   "metadata": {},
   "outputs": [
    {
     "name": "stdout",
     "output_type": "stream",
     "text": [
      "Observed mean health score change: 3.3\n",
      "One-sided p-value: 0.0009\n"
     ]
    }
   ],
   "source": [
    "7.\n",
    "import pandas as pd\n",
    "import numpy as np\n",
    "\n",
    "# Step 1: Create the patient data DataFrame\n",
    "patient_data = pd.DataFrame({\n",
    "    \"PatientID\": [1, 2, 3, 4, 5, 6, 7, 8, 9, 10],\n",
    "    \"Age\": [45, 34, 29, 52, 37, 41, 33, 48, 26, 39],\n",
    "    \"Gender\": [\"M\", \"F\", \"M\", \"F\", \"M\", \"F\", \"M\", \"F\", \"M\", \"F\"],\n",
    "    \"InitialHealthScore\": [84, 78, 83, 81, 81, 80, 79, 85, 76, 83],\n",
    "    \"FinalHealthScore\": [86, 86, 80, 86, 84, 86, 86, 82, 83, 84]\n",
    "})\n",
    "\n",
    "# Step 2: Calculate the health score change\n",
    "patient_data['HealthScoreChange'] = patient_data['FinalHealthScore'] - patient_data['InitialHealthScore']\n",
    "\n",
    "# Step 3: Define the hypothesis\n",
    "# H0: Mean health score change <= 0 (no improvement)\n",
    "# H1: Mean health score change > 0 (vaccine improves health scores)\n",
    "\n",
    "# Step 4: Perform bootstrapping to simulate the null distribution\n",
    "np.random.seed(42)  # For reproducibility\n",
    "n_bootstrap = 10000  # Number of bootstrap samples\n",
    "null_means = []\n",
    "\n",
    "# Center the health score changes around zero (null hypothesis)\n",
    "centered_health_score_changes = patient_data['HealthScoreChange'] - patient_data['HealthScoreChange'].mean()\n",
    "\n",
    "# Generate bootstrap samples\n",
    "for _ in range(n_bootstrap):\n",
    "    bootstrap_sample = np.random.choice(centered_health_score_changes, size=len(centered_health_score_changes), replace=True)\n",
    "    null_means.append(np.mean(bootstrap_sample))\n",
    "\n",
    "# Step 5: Compute the observed test statistic (mean of health score changes)\n",
    "observed_mean_change = patient_data['HealthScoreChange'].mean()\n",
    "\n",
    "# Step 6: Calculate the one-sided p-value (proportion of null means >= observed mean)\n",
    "p_value_one_tailed = np.mean(np.array(null_means) >= observed_mean_change)\n",
    "\n",
    "# Output the result\n",
    "print(f\"Observed mean health score change: {observed_mean_change}\")\n",
    "print(f\"One-sided p-value: {p_value_one_tailed}\")\n"
   ]
  },
  {
   "cell_type": "markdown",
   "id": "4cfb1d8a",
   "metadata": {},
   "source": [
    "changes：\n",
    "Calculating the mean change in health score as the observed test statistic.And focus on whether the health score improves (one direction) by comparing the observed statistic against the null distribution in only one direction. The p-value is computed as the proportion of the null distribution values that are greater than or equal to the observed mean change.\n",
    "\n",
    "In a one-tailed test, the p-value is expected to be smaller compared to the two-tailed test because only looking at one direction. Therefore, it is easier to find evidence against the null hypothesis in a one-sided test."
   ]
  },
  {
   "cell_type": "markdown",
   "id": "b78c9be9",
   "metadata": {},
   "source": [
    "Here’s a summary of our exchanges regarding your \"Vaccine Data Analysis Assignment\":\n",
    "\n",
    "Initial Discussion: You mentioned working on a \"Vaccine Data Analysis Assignment,\" which involves p-values and hypothesis testing. Specifically, you wanted to adjust the code from \"Demo II of Week 5 TUT,\" which revisits \"Question 8\" from the Week 04 homework.\n",
    "Request for Help with Code Adjustment: You requested guidance on modifying the code for a \"one-sided\" (or \"one-tailed\") hypothesis test instead of the \"two-sided\" version it originally provided. We discussed that the primary change would be in how the p-value is calculated—shifting from considering deviations in both directions (two-tailed) to focusing on one direction (one-tailed). This leads to a smaller p-value in a one-tailed test if the effect is in the hypothesized direction, as we are only considering one tail of the distribution.\n",
    "Clarifying Hypothesis Test Interpretation: We also touched on how the interpretation of a one-sided test changes compared to a two-sided one, as a one-sided test only looks for evidence in one direction. Therefore, this test is more specific and may result in a smaller p-value when the direction aligns with the hypothesis.\n",
    "If you need to expand or clarify any specific parts for your submission, feel free to ask!\n",
    "\n",
    "https://chatgpt.com/share/67082011-8d74-8007-b7ce-ec08c1f951f9"
   ]
  },
  {
   "cell_type": "markdown",
   "id": "cc461a16",
   "metadata": {},
   "source": [
    "8. Problem introduction：\n",
    "   1）Describe how the experiment involving students tasting tea relates to the original Fisher’s tea experiment with Dr. Muriel Bristol.\n",
    "   2）Null Hypothesis p=0.5, which states that students are guessing, and the probability of correctly identifying the pouring method is purely random, like flipping a coin.\n",
    "     Alternative Hypothesis p>0.5, which suggests that students can reliably tell whether the tea or milk was poured first, with a probability of success greater than chance.\n",
    "   Quantitative Analysis:"
   ]
  },
  {
   "cell_type": "code",
   "execution_count": 3,
   "id": "4865ac5c",
   "metadata": {},
   "outputs": [
    {
     "name": "stdout",
     "output_type": "stream",
     "text": [
      "Simulated p-value: 0.0294\n"
     ]
    }
   ],
   "source": [
    "import numpy as np\n",
    "\n",
    "# Set seed for reproducibility\n",
    "np.random.seed(42)\n",
    "\n",
    "# Simulation parameters\n",
    "n_students = 80\n",
    "correct_guesses = 49\n",
    "p_null = 0.5  # Null hypothesis: probability of guessing correctly is 50%\n",
    "simulations = 10000\n",
    "\n",
    "# Simulate binomial experiment\n",
    "simulated_data = np.random.binomial(n=n_students, p=p_null, size=simulations)\n",
    "\n",
    "# Calculate p-value (proportion of simulations where correct guesses >= 49)\n",
    "p_value = np.mean(simulated_data >= correct_guesses)\n",
    "print(\"Simulated p-value:\", p_value)"
   ]
  },
  {
   "cell_type": "markdown",
   "id": "4c786eda",
   "metadata": {},
   "source": [
    "Findings and Discussion:\n",
    "The p-value of 0.0294 is less than the typical significance level of 0.05. This means there is moderate evidence against the null hypothesis."
   ]
  },
  {
   "cell_type": "markdown",
   "id": "9b545118",
   "metadata": {},
   "source": [
    "9. Yes"
   ]
  }
 ],
 "metadata": {
  "kernelspec": {
   "display_name": "Python 3 (ipykernel)",
   "language": "python",
   "name": "python3"
  },
  "language_info": {
   "codemirror_mode": {
    "name": "ipython",
    "version": 3
   },
   "file_extension": ".py",
   "mimetype": "text/x-python",
   "name": "python",
   "nbconvert_exporter": "python",
   "pygments_lexer": "ipython3",
   "version": "3.11.6"
  }
 },
 "nbformat": 4,
 "nbformat_minor": 5
}
